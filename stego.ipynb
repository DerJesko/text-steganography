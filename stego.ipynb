{
 "metadata": {
  "language_info": {
   "codemirror_mode": {
    "name": "ipython",
    "version": 3
   },
   "file_extension": ".py",
   "mimetype": "text/x-python",
   "name": "python",
   "nbconvert_exporter": "python",
   "pygments_lexer": "ipython3",
   "version": "3.8.10"
  },
  "orig_nbformat": 4,
  "kernelspec": {
   "name": "python3",
   "display_name": "Python 3.8.10 64-bit"
  },
  "interpreter": {
   "hash": "916dbcbb3f70747c44a77c7bcd40155683ae19c65e1c03b4aa3499c5328201f1"
  }
 },
 "nbformat": 4,
 "nbformat_minor": 2,
 "cells": [
  {
   "cell_type": "code",
   "execution_count": null,
   "source": [
    "from transformers import AutoModelForCausalLM, AutoTokenizer, top_k_top_p_filtering\n",
    "import torch\n",
    "from torch import nn\n",
    "import heapq\n",
    "from math import pow\n",
    "from Crypto.Cipher import AES\n",
    "from Crypto.Random import get_random_bytes"
   ],
   "outputs": [],
   "metadata": {}
  },
  {
   "cell_type": "code",
   "execution_count": null,
   "source": [
    "tokenizer = AutoTokenizer.from_pretrained(\"gpt2\")\n",
    "model = AutoModelForCausalLM.from_pretrained(\"gpt2\")"
   ],
   "outputs": [],
   "metadata": {}
  },
  {
   "cell_type": "markdown",
   "source": [
    "## Extremely good LM"
   ],
   "metadata": {}
  },
  {
   "cell_type": "markdown",
   "source": [
    "### Build a flat distribution"
   ],
   "metadata": {}
  },
  {
   "cell_type": "code",
   "execution_count": null,
   "source": [
    "def flat_distribution(min_entropy=9, prompt=\".\"):\n",
    "    dist = [(-1, prompt)]\n",
    "    while dist[0][0] < -pow(2,-min_entropy):\n",
    "        # get the highest probability string\n",
    "        (minus_max_prob, prompt) = heapq.heappop(dist)\n",
    "        # evaluate the model on the highest probability string\n",
    "        inputs = tokenizer(prompt, return_tensors=\"pt\")\n",
    "        input_ids = inputs[\"input_ids\"]\n",
    "        next_token_logits = top_k_top_p_filtering(model(**inputs).logits[:, -1, :], top_k=int(pow(2,min_entropy)))\n",
    "        probs = nn.functional.softmax(next_token_logits, dim=-1)\n",
    "        # enter the new strings into the distribution map\n",
    "        nz = torch.nonzero(probs)\n",
    "        for i in nz:\n",
    "            new_input_ids = torch.cat([input_ids, torch.tensor([[i[1]]])], dim=-1)\n",
    "            new_prompt = tokenizer.decode(new_input_ids.tolist()[0])\n",
    "            heapq.heappush(dist,(minus_max_prob*probs[0,i[1]], new_prompt))\n",
    "    return [(-p,s) for (p,s) in dist]"
   ],
   "outputs": [],
   "metadata": {}
  },
  {
   "cell_type": "markdown",
   "source": [
    "## Encryption"
   ],
   "metadata": {}
  },
  {
   "cell_type": "code",
   "execution_count": null,
   "source": [
    "#keygen\n",
    "key = get_random_bytes(16)\n",
    "cipher = AES.new(key, AES.MODE_GCM)\n",
    "nonce = cipher.nonce\n",
    "#encrypt\n",
    "ciphertext, tag = cipher.encrypt_and_digest(b\"fish\")\n",
    "encode_this = nonce+ciphertext+tag"
   ],
   "outputs": [],
   "metadata": {}
  },
  {
   "cell_type": "markdown",
   "source": [
    "## Sample until hash function matches"
   ],
   "metadata": {}
  },
  {
   "cell_type": "code",
   "execution_count": null,
   "source": [
    "s = 99\n",
    "def hash(inp, seed=0):\n",
    "    return inp % 256"
   ],
   "outputs": [],
   "metadata": {}
  },
  {
   "cell_type": "code",
   "execution_count": null,
   "source": [
    "def encode_byte(current_string, b):\n",
    "    dist_and_strings = flat_distribution(prompt=current_string)\n",
    "    dist = torch.tensor([p for (p,_) in dist_and_strings])\n",
    "    print(\"distribution done\")\n",
    "\n",
    "    while True:\n",
    "        sample = torch.multinomial(dist,1)\n",
    "        #print(sample)\n",
    "        #print(hash(sample))\n",
    "        if hash(sample) == b:\n",
    "            print(sample)\n",
    "            return dist_and_strings[sample][1]"
   ],
   "outputs": [],
   "metadata": {}
  },
  {
   "cell_type": "code",
   "execution_count": null,
   "source": [
    "s = \"\"\n",
    "for b in encode_this:\n",
    "    print(\"The text currently is :\", s)\n",
    "    k = input(\"Finish the current sentence.\")\n",
    "    s += k.split(\".\",2)[0].split(\"?\",2)[0].split(\"!\",2)[0]\n",
    "    s = encode_byte(s,b)"
   ],
   "outputs": [],
   "metadata": {
    "tags": []
   }
  },
  {
   "cell_type": "code",
   "execution_count": null,
   "source": [],
   "outputs": [],
   "metadata": {}
  },
  {
   "cell_type": "markdown",
   "source": [
    "## Decryption"
   ],
   "metadata": {}
  },
  {
   "cell_type": "code",
   "execution_count": null,
   "source": [
    "#decrypt\n",
    "cipher = AES.new(key, AES.MODE_GCM,nonce)\n",
    "cipher.decrypt(ciphertext)"
   ],
   "outputs": [],
   "metadata": {}
  },
  {
   "cell_type": "code",
   "execution_count": null,
   "source": [],
   "outputs": [],
   "metadata": {}
  }
 ]
}