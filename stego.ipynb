{
 "metadata": {
  "language_info": {
   "codemirror_mode": {
    "name": "ipython",
    "version": 3
   },
   "file_extension": ".py",
   "mimetype": "text/x-python",
   "name": "python",
   "nbconvert_exporter": "python",
   "pygments_lexer": "ipython3",
   "version": "3.8.10"
  },
  "orig_nbformat": 4,
  "kernelspec": {
   "name": "python3",
   "display_name": "Python 3.8.10 64-bit"
  },
  "interpreter": {
   "hash": "916dbcbb3f70747c44a77c7bcd40155683ae19c65e1c03b4aa3499c5328201f1"
  }
 },
 "nbformat": 4,
 "nbformat_minor": 2,
 "cells": [
  {
   "cell_type": "code",
   "execution_count": null,
   "source": [
    "from transformers import AutoModelForCausalLM, AutoTokenizer, top_k_top_p_filtering\n",
    "import torch\n",
    "from torch import nn\n",
    "import heapq\n",
    "from math import pow\n",
    "from Crypto.Cipher import AES\n",
    "from Crypto.Random import get_random_bytes\n",
    "from collections import OrderedDict"
   ],
   "outputs": [],
   "metadata": {}
  },
  {
   "cell_type": "code",
   "execution_count": null,
   "source": [
    "tokenizer = AutoTokenizer.from_pretrained(\"gpt2\")\n",
    "model = AutoModelForCausalLM.from_pretrained(\"gpt2\")"
   ],
   "outputs": [],
   "metadata": {}
  },
  {
   "cell_type": "markdown",
   "source": [
    "## Encryption"
   ],
   "metadata": {}
  },
  {
   "cell_type": "code",
   "execution_count": null,
   "source": [
    "#keygen\n",
    "key = get_random_bytes(16)\n",
    "cipher = AES.new(key, AES.MODE_GCM)\n",
    "nonce = cipher.nonce\n",
    "#encrypt\n",
    "ciphertext, tag = cipher.encrypt_and_digest(b\"fish\")\n",
    "encode_this = nonce + ciphertext + tag"
   ],
   "outputs": [],
   "metadata": {}
  },
  {
   "cell_type": "markdown",
   "source": [
    "## Sample until hash function matches"
   ],
   "metadata": {}
  },
  {
   "cell_type": "code",
   "execution_count": null,
   "source": [
    "s = \"\"\n",
    "for b in encode_this:\n",
    "    print(\"The text currently is :\", s)\n",
    "    k = input(\"Finish the current sentence.\")\n",
    "    s += \" \" + first_sentence(k)\n",
    "    s = encode_byte(s,b)"
   ],
   "outputs": [],
   "metadata": {
    "tags": []
   }
  },
  {
   "cell_type": "code",
   "execution_count": null,
   "source": [
    "inputs = tokenizer(\"Richard Lewis is a\", return_tensors=\"pt\")\n",
    "probs = torch.topk(nn.functional.softmax(model(**inputs).logits[:, -1, :], dim=-1),8)"
   ],
   "outputs": [],
   "metadata": {}
  },
  {
   "cell_type": "code",
   "execution_count": null,
   "source": [
    "def leq_set(k,l):\n",
    "    result = set([frozenset()])\n",
    "    for i in range(k):\n",
    "        new_result = result.copy()\n",
    "        #print(new_result)\n",
    "        for r in result:\n",
    "            for j in l:\n",
    "                new_r = r.union(frozenset([j]))\n",
    "                #print(new_r)\n",
    "                new_result.add(new_r)\n",
    "        result = new_result\n",
    "\n",
    "    return result\n",
    "\n",
    "\n",
    "def set_combinations(l):\n",
    "    result = set()\n",
    "    l1 = leq_set(int(len(l)/2), l)\n",
    "    l1.remove(frozenset())\n",
    "    for i in l1:\n",
    "        ln = [j for j in l if not j in i]\n",
    "        l2 = leq_set(len(ln), ln)\n",
    "        l2.remove(frozenset())\n",
    "        for j in l2:\n",
    "            t = (i,j)\n",
    "            result.add(t)\n",
    "    return result"
   ],
   "outputs": [],
   "metadata": {}
  },
  {
   "cell_type": "code",
   "execution_count": null,
   "source": [
    "def balance_probs(probs):\n",
    "    length = probs.values.size()[1]\n",
    "    combs = set_combinations(range(length))\n",
    "    indeces = None\n",
    "    difference = 1\n",
    "    for (comb1,comb2) in combs:\n",
    "        sum1 = 0\n",
    "        for i in comb1:\n",
    "            sum1 += probs.values[0,i]\n",
    "        sum2 = 0\n",
    "        for i in comb2:\n",
    "            sum2 += probs.values[0,i]\n",
    "\n",
    "        a = torch.abs(sum1-sum2)\n",
    "        if a < difference:\n",
    "            difference = a\n",
    "            indeces = (comb1,comb2)\n",
    "        \n",
    "            print(comb1, comb2)\n",
    "            print(float(difference))\n",
    "    return indeces"
   ],
   "outputs": [],
   "metadata": {}
  },
  {
   "cell_type": "code",
   "execution_count": null,
   "source": [
    "top_k_top_p_filtering(something,top_k=1000)"
   ],
   "outputs": [],
   "metadata": {}
  },
  {
   "cell_type": "markdown",
   "source": [
    "## Decryption"
   ],
   "metadata": {}
  },
  {
   "cell_type": "code",
   "execution_count": null,
   "source": [
    "#decrypt\n",
    "cipher = AES.new(key, AES.MODE_GCM,nonce)\n",
    "cipher.decrypt(ciphertext)"
   ],
   "outputs": [],
   "metadata": {}
  },
  {
   "cell_type": "code",
   "execution_count": null,
   "source": [],
   "outputs": [],
   "metadata": {}
  }
 ]
}